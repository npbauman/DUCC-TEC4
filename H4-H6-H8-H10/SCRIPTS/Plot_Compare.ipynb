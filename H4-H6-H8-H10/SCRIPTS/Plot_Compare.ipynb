{
 "cells": [
  {
   "cell_type": "code",
   "execution_count": 4,
   "metadata": {},
   "outputs": [
    {
     "data": {
      "application/vnd.jupyter.widget-view+json": {
       "model_id": "c6e384a092bb40c8a642413096476752",
       "version_major": 2,
       "version_minor": 0
      },
      "text/plain": [
       "interactive(children=(Dropdown(description='Select Label:', options=((4, 1, 4, 1), (4, 2, 2, 2), (5, 1), (6, 2…"
      ]
     },
     "metadata": {},
     "output_type": "display_data"
    },
    {
     "data": {
      "text/plain": [
       "<function __main__.plot_data(label)>"
      ]
     },
     "execution_count": 4,
     "metadata": {},
     "output_type": "execute_result"
    }
   ],
   "source": [
    "import csv\n",
    "import matplotlib.pyplot as plt\n",
    "from ipywidgets import interact, Dropdown\n",
    "\n",
    "# Paths to the two CSV files\n",
    "input_csv1 = 'integral_data.csv'\n",
    "input_csv2 = 'new_integral_data.csv'\n",
    "\n",
    "# Load data from a CSV file for a specific label\n",
    "def load_data(csv_file):\n",
    "    data = {}\n",
    "    with open(csv_file, 'r') as csvfile:\n",
    "        csv_reader = csv.reader(csvfile)\n",
    "        header = next(csv_reader)\n",
    "\n",
    "        # Extract x values from header (assuming columns after the first one are x values)\n",
    "        x_values = [float(col) for col in header[1:]]\n",
    "        \n",
    "        # Extract data\n",
    "        for row in csv_reader:\n",
    "            label = eval(row[0])\n",
    "            values = [float(value) if value else None for value in row[1:]]\n",
    "            data[label] = (x_values, values)\n",
    "\n",
    "    return data\n",
    "\n",
    "# Load data from both CSV files\n",
    "data1 = load_data(input_csv1)\n",
    "data2 = load_data(input_csv2)\n",
    "\n",
    "# Get all unique labels from both datasets\n",
    "all_labels = list(set(data1.keys()).union(data2.keys()))\n",
    "\n",
    "# Function to plot data side-by-side\n",
    "def plot_data(label):\n",
    "    # Get data for the label from each file\n",
    "    x_vals1, y_vals1 = data1.get(label, ([], []))\n",
    "    x_vals2, y_vals2 = data2.get(label, ([], []))\n",
    "\n",
    "    # Create side-by-side plots\n",
    "    fig, (ax1, ax2) = plt.subplots(1, 2, figsize=(12, 6), sharey=True)\n",
    "    \n",
    "    # Plot data from first CSV\n",
    "    ax1.plot(x_vals1, y_vals1, marker='o', linestyle='-')\n",
    "    ax1.set_title(f'CSV 1 - Label {label}')\n",
    "    ax1.set_xlabel('X Value')\n",
    "    ax1.set_ylabel('Integral Value')\n",
    "    ax1.grid(True)\n",
    "\n",
    "    # Plot data from second CSV\n",
    "    ax2.plot(x_vals2, y_vals2, marker='o', linestyle='-')\n",
    "    ax2.set_title(f'CSV 2 - Label {label}')\n",
    "    ax2.set_xlabel('X Value')\n",
    "    ax2.grid(True)\n",
    "\n",
    "    plt.tight_layout()\n",
    "    plt.show()\n",
    "\n",
    "# Dropdown for selecting the label\n",
    "dropdown = Dropdown(options=all_labels, description=\"Select Label:\")\n",
    "\n",
    "# Interactive plot\n",
    "interact(plot_data, label=dropdown)\n"
   ]
  },
  {
   "cell_type": "code",
   "execution_count": null,
   "metadata": {},
   "outputs": [],
   "source": []
  }
 ],
 "metadata": {
  "kernelspec": {
   "display_name": "Python 3",
   "language": "python",
   "name": "python3"
  },
  "language_info": {
   "codemirror_mode": {
    "name": "ipython",
    "version": 3
   },
   "file_extension": ".py",
   "mimetype": "text/x-python",
   "name": "python",
   "nbconvert_exporter": "python",
   "pygments_lexer": "ipython3",
   "version": "3.10.12"
  }
 },
 "nbformat": 4,
 "nbformat_minor": 2
}
