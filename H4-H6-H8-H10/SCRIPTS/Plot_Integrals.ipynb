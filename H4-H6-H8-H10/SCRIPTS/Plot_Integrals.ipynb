{
 "cells": [
  {
   "cell_type": "code",
   "execution_count": 28,
   "metadata": {},
   "outputs": [
    {
     "name": "stdout",
     "output_type": "stream",
     "text": [
      "Data with values above threshold 1e-08 has been extracted to integral_data.csv in table format.\n"
     ]
    }
   ],
   "source": [
    "import os\n",
    "import csv\n",
    "\n",
    "# Directory containing your \".out\" files\n",
    "directory = '.'\n",
    "output_csv = 'integral_data.csv'\n",
    "threshold = 0.00000001  # Set the threshold here\n",
    "\n",
    "# Initialize dictionaries to hold data\n",
    "one_electron_data = {}\n",
    "two_electron_data = {}\n",
    "x_values = set()\n",
    "\n",
    "# Function to parse files\n",
    "def parse_files():\n",
    "    for filename in os.listdir(directory):\n",
    "        if filename.endswith(\".out\"):\n",
    "            x_value = float(filename.replace(\".out\", \"\"))\n",
    "            x_values.add(x_value)\n",
    "            filepath = os.path.join(directory, filename)\n",
    "\n",
    "            with open(filepath, 'r') as file:\n",
    "                content = file.readlines()\n",
    "\n",
    "            inside_one_electron = False\n",
    "            inside_two_electron = False\n",
    "\n",
    "            for line in content:\n",
    "                line = line.strip()\n",
    "                \n",
    "                if line.startswith(\"begin_one_electron_integrals\"):\n",
    "                    inside_one_electron = True\n",
    "                    continue\n",
    "                elif line.startswith(\"end_one_electron_integrals\"):\n",
    "                    inside_one_electron = False\n",
    "                    continue\n",
    "                \n",
    "                if line.startswith(\"begin_two_electron_integrals\"):\n",
    "                    inside_two_electron = True\n",
    "                    continue\n",
    "                elif line.startswith(\"end_two_electron_integrals\"):\n",
    "                    inside_two_electron = False\n",
    "                    continue\n",
    "\n",
    "                # Parse the values inside each integral block\n",
    "                if inside_one_electron:\n",
    "                    parts = line.split()\n",
    "                    if len(parts) == 3:\n",
    "                        label = (int(parts[0]), int(parts[1]))\n",
    "                        value = float(parts[2])\n",
    "                        if label not in one_electron_data:\n",
    "                            one_electron_data[label] = {}\n",
    "                        one_electron_data[label][x_value] = value\n",
    "\n",
    "                elif inside_two_electron:\n",
    "                    parts = line.split()\n",
    "                    if len(parts) == 5:\n",
    "                        label = (int(parts[0]), int(parts[1]), int(parts[2]), int(parts[3]))\n",
    "                        value = float(parts[4])\n",
    "                        if label not in two_electron_data:\n",
    "                            two_electron_data[label] = {}\n",
    "                        two_electron_data[label][x_value] = value\n",
    "\n",
    "# Run parsing function\n",
    "parse_files()\n",
    "\n",
    "# Sort x_values for consistent column ordering\n",
    "x_values = sorted(x_values)\n",
    "\n",
    "# Write data to CSV with threshold filtering\n",
    "with open(output_csv, 'w', newline='') as csvfile:\n",
    "    csv_writer = csv.writer(csvfile)\n",
    "\n",
    "    # Write header: Label columns and X values as subsequent columns\n",
    "    header = [\"Label\"] + [f\"{x:.2f}\" for x in x_values]\n",
    "    csv_writer.writerow(header)\n",
    "\n",
    "    # Function to check if all values in a row meet the threshold\n",
    "    def meets_threshold(data, x_vals):\n",
    "        values = [data.get(x, float('-inf')) for x in x_vals]\n",
    "        return all(abs(val) >= threshold for val in values)\n",
    "\n",
    "    # Write one-electron data with threshold filtering\n",
    "    for label, data in one_electron_data.items():\n",
    "        if meets_threshold(data, x_values):\n",
    "            row = [label] + [data.get(x, \"\") for x in x_values]\n",
    "            csv_writer.writerow(row)\n",
    "\n",
    "    # Write two-electron data with threshold filtering\n",
    "    for label, data in two_electron_data.items():\n",
    "        if meets_threshold(data, x_values):\n",
    "            row = [label] + [data.get(x, \"\") for x in x_values]\n",
    "            csv_writer.writerow(row)\n",
    "\n",
    "print(f\"Data with values above threshold {threshold} has been extracted to {output_csv} in table format.\")\n"
   ]
  },
  {
   "cell_type": "code",
   "execution_count": 13,
   "metadata": {},
   "outputs": [
    {
     "data": {
      "application/vnd.jupyter.widget-view+json": {
       "model_id": "3455cbb2eb00431ab8d9c92e89befe8e",
       "version_major": 2,
       "version_minor": 0
      },
      "text/plain": [
       "interactive(children=(Dropdown(description='Select Label:', options=((1, 1), (3, 1), (5, 1), (2, 2), (4, 2), (…"
      ]
     },
     "metadata": {},
     "output_type": "display_data"
    },
    {
     "data": {
      "text/plain": [
       "<function __main__.plot_data(label)>"
      ]
     },
     "execution_count": 13,
     "metadata": {},
     "output_type": "execute_result"
    }
   ],
   "source": [
    "import csv\n",
    "import matplotlib.pyplot as plt\n",
    "from ipywidgets import interact, Dropdown\n",
    "import numpy as np\n",
    "\n",
    "# CSV file containing the processed data\n",
    "input_csv = 'integral_data.csv'\n",
    "\n",
    "# Initialize dictionary to hold data from CSV\n",
    "data = {}\n",
    "x_values = []\n",
    "\n",
    "# Load data from CSV\n",
    "with open(input_csv, 'r') as csvfile:\n",
    "    csv_reader = csv.reader(csvfile)\n",
    "    header = next(csv_reader)  # First row is the header\n",
    "\n",
    "    # Extract x values from header\n",
    "    x_values = [float(label) for label in header[1:]]\n",
    "\n",
    "    # Load each label's data\n",
    "    for row in csv_reader:\n",
    "        label = eval(row[0])  # Convert string tuple back to tuple\n",
    "        y_values = [float(value) if value else np.nan for value in row[1:]]\n",
    "        data[label] = y_values\n",
    "\n",
    "# Function to plot selected data\n",
    "def plot_data(label):\n",
    "    y_vals = data.get(label)\n",
    "    if y_vals is None:\n",
    "        print(f\"No data found for label {label}\")\n",
    "        return\n",
    "\n",
    "    plt.figure(figsize=(10, 6))\n",
    "    plt.plot(x_values, y_vals, marker='o', linestyle='-')\n",
    "    plt.xlabel('X Value')\n",
    "    plt.ylabel('Integral Value')\n",
    "    plt.title(f'Plot for Label {label}')\n",
    "    plt.grid(True)\n",
    "    plt.show()\n",
    "\n",
    "# Create dropdown options\n",
    "dropdown = Dropdown(options=list(data.keys()), description=\"Select Label:\")\n",
    "\n",
    "# Create interactive plot\n",
    "interact(plot_data, label=dropdown)\n"
   ]
  },
  {
   "cell_type": "code",
   "execution_count": null,
   "metadata": {},
   "outputs": [],
   "source": []
  }
 ],
 "metadata": {
  "kernelspec": {
   "display_name": "Python 3",
   "language": "python",
   "name": "python3"
  },
  "language_info": {
   "codemirror_mode": {
    "name": "ipython",
    "version": 3
   },
   "file_extension": ".py",
   "mimetype": "text/x-python",
   "name": "python",
   "nbconvert_exporter": "python",
   "pygments_lexer": "ipython3",
   "version": "3.10.12"
  }
 },
 "nbformat": 4,
 "nbformat_minor": 2
}
